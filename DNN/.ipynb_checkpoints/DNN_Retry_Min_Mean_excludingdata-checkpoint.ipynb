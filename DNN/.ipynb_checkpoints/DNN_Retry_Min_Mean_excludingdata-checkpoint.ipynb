{
 "cells": [
  {
   "cell_type": "markdown",
   "id": "af2c1d00",
   "metadata": {},
   "source": [
    "## DNN Retry Mean + Minimum\n",
    "Included the minimum and the mean, as well as took out the data from 2020-2021, 2021-2022."
   ]
  },
  {
   "cell_type": "code",
   "execution_count": 1,
   "id": "d790d895",
   "metadata": {},
   "outputs": [],
   "source": [
    "import seaborn as sns\n",
    "import matplotlib.pyplot as plt\n",
    "import numpy as np\n",
    "import pandas as pd\n",
    "%matplotlib inline\n",
    "from statistics import mean\n",
    "from tensorflow.keras.models import Sequential\n",
    "from tensorflow.keras.layers import Dense, Dropout\n",
    "from tensorflow.keras.callbacks import EarlyStopping"
   ]
  },
  {
   "cell_type": "code",
   "execution_count": 2,
   "id": "3bf14ed3",
   "metadata": {},
   "outputs": [],
   "source": [
    "import seaborn as sns\n",
    "import numpy as np\n",
    "import pandas as pd\n",
    "from statistics import mean\n",
    "import math\n",
    "\n",
    "FUTURE_PREDICTION = 4\n",
    "\n",
    "def findmax(x):\n",
    "    maximum = 0\n",
    "    for number in x:\n",
    "        maximum = max(x)\n",
    "    return maximum\n",
    "\n",
    "def findmean(x):\n",
    "    m = 0\n",
    "    m = mean(x)\n",
    "    return m\n",
    "\n",
    "def findmin(x):\n",
    "    m = 0\n",
    "    m = min(x)\n",
    "    return m\n",
    "\n",
    "def CreateMean(dataframe,title,city):\n",
    "\n",
    "    dataframe = dataframe.iloc[522:3924:1]\n",
    "    dataframe.rename(columns = {f'{city}' : f'{title}_Mean'}, inplace = True)\n",
    "    dataframe = dataframe.reset_index(drop=True)\n",
    "    for x in dataframe.index:\n",
    "        if x % 7 == 6:\n",
    "            list = []\n",
    "            mean = 0\n",
    "            for y in range(x-6,x+1,1):\n",
    "                list.append(dataframe.iloc[y][f'{title}_Mean'])\n",
    "            mean = findmean(list)\n",
    "            dataframe.at[x,f'{title}_Mean'] = mean\n",
    "    for x in dataframe.index:\n",
    "        if x % 7 != 6:\n",
    "            dataframe.drop(index= x, inplace=True)\n",
    "    dataframe = dataframe.reset_index(drop=True)\n",
    "    return dataframe\n",
    "\n",
    "def CreateMax(dataframe,title,city):\n",
    "\n",
    "    dataframe = dataframe.iloc[522:3924:1]\n",
    "    dataframe.rename(columns = {f'{city}' : f'{title}_Max'}, inplace = True)\n",
    "    dataframe = dataframe.reset_index(drop=True)\n",
    "    for x in dataframe.index:\n",
    "        if x % 7 == 6:\n",
    "            list = []\n",
    "            maximum = 0\n",
    "            for y in range(x-6,x+1,1):\n",
    "                list.append(dataframe.iloc[y][f'{title}_Max'])\n",
    "            maximum = findmax(list)\n",
    "            dataframe.at[x,f'{title}_Max'] = maximum\n",
    "    for x in dataframe.index:\n",
    "        if x % 7 != 6:\n",
    "            dataframe.drop(index= x, inplace=True)\n",
    "    dataframe = dataframe.reset_index(drop=True)\n",
    "    return dataframe\n",
    "\n",
    "def CreateMin(dataframe,title,city):\n",
    "\n",
    "    dataframe = dataframe.iloc[522:3924:1]\n",
    "    dataframe.rename(columns = {f'{city}' : f'{title}_Min'}, inplace = True)\n",
    "    dataframe = dataframe.reset_index(drop=True)\n",
    "    for x in dataframe.index:\n",
    "        if x % 7 == 6:\n",
    "            list = []\n",
    "            minimum = 0\n",
    "            for y in range(x-6,x+1,1):\n",
    "                list.append(dataframe.iloc[y][f'{title}_Min'])\n",
    "            minimum = findmin(list)\n",
    "            dataframe.at[x,f'{title}_Min'] = minimum\n",
    "    for x in dataframe.index:\n",
    "        if x % 7 != 6:\n",
    "            dataframe.drop(index= x, inplace=True)\n",
    "    dataframe = dataframe.reset_index(drop=True)\n",
    "    return dataframe\n",
    "    \n",
    "def DataPreprocess(city):\n",
    "    virus_df = pd.read_csv('Data/virus.csv')\n",
    "    virus_df['Date'] = pd.to_datetime(virus_df['Date'])\n",
    "    virus_df['year'] = virus_df['Date'].apply(lambda date: date.year)\n",
    "    virus_df['month'] = virus_df['Date'].apply(lambda date: date.month)\n",
    "    virus_df_new = virus_df[['Date','month','year',f'{city}']]\n",
    "    virus_df_new.rename(columns = {f'{city}' : f'Virus_Count_{city}'}, inplace = True)\n",
    "\n",
    "    temp_df = pd.read_csv(f'Data/{city}_temp.csv')\n",
    "    pressure_df = pd.read_csv(f'Data/{city}_pressure.csv')\n",
    "    hours_df = pd.read_csv(f'Data/{city}_hours.csv')\n",
    "    rainfall_df = pd.read_csv(f'Data/{city}_rainfall.csv')\n",
    "\n",
    "    temp_df['Date'] = pd.to_datetime(temp_df['Date'])\n",
    "    temp_df['year'] = temp_df['Date'].apply(lambda date: date.year)\n",
    "    temp_df['month'] = temp_df['Date'].apply(lambda date: date.month)\n",
    "\n",
    "    pressure_df['Date'] = pd.to_datetime(pressure_df['Date'])\n",
    "    pressure_df['year'] = pressure_df['Date'].apply(lambda date: date.year)\n",
    "    pressure_df['month'] = pressure_df['Date'].apply(lambda date: date.month)\n",
    "    pressure_df = pressure_df.sort_values(by=\"Date\")\n",
    "    pressure_df = pressure_df.reset_index(drop=True)\n",
    "\n",
    "    hours_df['Date'] = pd.to_datetime(hours_df['Date'])\n",
    "    hours_df['year'] = hours_df['Date'].apply(lambda date: date.year)\n",
    "    hours_df['month'] = hours_df['Date'].apply(lambda date: date.month)\n",
    "    hours_df = hours_df.sort_values(by=\"Date\")\n",
    "    hours_df = hours_df.reset_index(drop=True)\n",
    "\n",
    "    rainfall_df['Date'] = pd.to_datetime(rainfall_df['Date'])\n",
    "    rainfall_df['year'] = rainfall_df['Date'].apply(lambda date: date.year)\n",
    "    rainfall_df['month'] = rainfall_df['Date'].apply(lambda date: date.month)\n",
    "    rainfall_df = rainfall_df.sort_values(by=\"Date\")\n",
    "    rainfall_df = rainfall_df.reset_index(drop=True)\n",
    "\n",
    "    list = []\n",
    "    for x in temp_df.index:\n",
    "        t = temp_df.iloc[x][f'{city}']\n",
    "        svp = 6.1078*10**(7.5*t/(t+237.3))\n",
    "        e = pressure_df.iloc[x][f'{city}']\n",
    "        h = e/svp*100\n",
    "        list.append(h)\n",
    "        \n",
    "    humidity_df = pd.DataFrame(data=list)\n",
    "    humidity_df.rename(columns = {0:f'{city}'}, inplace = True)\n",
    "\n",
    "    mean_temp_df = CreateMean(temp_df, 'Temperature',f'{city}')\n",
    "    mean_pressure_df = CreateMean(pressure_df, 'Pressure',f'{city}')\n",
    "    mean_hours_df = CreateMean(hours_df, 'Hours',f'{city}')\n",
    "    mean_rainfall_df = CreateMean(rainfall_df, 'Rainfall',f'{city}')\n",
    "    mean_humidity_df = CreateMean(humidity_df, 'Humidity',f'{city}')\n",
    "    \n",
    "    min_temp_df = CreateMin(temp_df, 'Temperature',f'{city}')\n",
    "    min_pressure_df = CreateMin(pressure_df, 'Pressure',f'{city}')\n",
    "    min_hours_df = CreateMin(hours_df, 'Hours',f'{city}')\n",
    "    min_rainfall_df = CreateMin(rainfall_df, 'Rainfall',f'{city}')\n",
    "    min_humidity_df = CreateMin(humidity_df, 'Humidity',f'{city}')\n",
    "\n",
    "    df = pd.concat([virus_df_new,mean_temp_df,mean_pressure_df,mean_hours_df,mean_rainfall_df,mean_humidity_df,\n",
    "                   min_temp_df,min_pressure_df,min_hours_df,min_rainfall_df,min_humidity_df], axis=1)\n",
    "    df = df.loc[:,~df.columns.duplicated()]\n",
    "\n",
    "    df['VirusCRM'] = df['Virus_Count_Tokyo'].rolling(14, center = True).mean()\n",
    "\n",
    "    for i in df.index:\n",
    "        if i == 0:\n",
    "            df.at[i,'Gradient'] = 1\n",
    "        else:\n",
    "            if df.iloc[i-1]['VirusCRM'] == 0:\n",
    "                if df.at[i,'VirusCDM'] > 0:\n",
    "                    df.at[i,'Gradient'] = 1\n",
    "                else:\n",
    "                    df.at[i,'Gradient'] = 0\n",
    "            else:\n",
    "                grd = df.iloc[i]['VirusCRM']/(df.iloc[i-1]['VirusCRM'])\n",
    "                df.at[i,'Gradient'] = grd\n",
    "    \n",
    "    for i in df.index:\n",
    "        if (df.iloc[i]['Gradient'] >= 1.1) and (df.iloc[i+1]['Gradient'] >= 1.1) and (df.iloc[i+2]['Gradient'] >= 1.1):\n",
    "            df.at[i,'Spreading'] = 1\n",
    "        else:\n",
    "            df.at[i,'Spreading'] = 0\n",
    "    df = df.astype({'Spreading':'int8'})\n",
    "\n",
    "    df_virus_count = df[f'Virus_Count_{city}']\n",
    "    df.drop(columns=['VirusCRM',f'Virus_Count_{city}','year','Gradient'], axis=1, inplace=True)\n",
    "    df_labels = df[['Date']]\n",
    "    FUTURE_PREDICTION = 4\n",
    "    for i in range(FUTURE_PREDICTION):\n",
    "        df_labels[f\"T+{(i+1)*7}\"] = df_labels[\"Date\"] + pd.DateOffset(days = (i+1)*7)\n",
    "    temp = df[[\"Date\", \"Spreading\"]]\n",
    "    for i in range(FUTURE_PREDICTION):\n",
    "        target_column = f\"T+{(i+1)*7}\"\n",
    "        df_labels = df_labels.merge(temp, \n",
    "                                how =\"left\",\n",
    "                                left_on = (target_column),\n",
    "                                right_on=(\"Date\"),\n",
    "                                suffixes = (\"\",\"_y\")\n",
    "        )\n",
    "        df_labels.rename(columns={\"Spreading\":f\"{target_column}_Spreading\"},inplace=True)\n",
    "    df_labels.drop(columns=[\"Date_y\"],inplace=True)\n",
    "\n",
    "    for i in range(FUTURE_PREDICTION):\n",
    "        df_labels.drop(columns =[f\"T+{(i+1)*7}\"],inplace=True,axis=1 )\n",
    "\n",
    "    df = df.merge(df_labels,\n",
    "             how='left',\n",
    "             on = [\"Date\"])\n",
    "    df.dropna(inplace=True)\n",
    "\n",
    "    X = df.drop(columns=['T+7_Spreading','T+14_Spreading','T+21_Spreading','T+28_Spreading'],axis=1)\n",
    "    y1 = df['T+21_Spreading']\n",
    "    y2 = df['T+7_Spreading']\n",
    "    y3 = df['T+14_Spreading']\n",
    "    y4 = df['T+28_Spreading']\n",
    "\n",
    "    return X, y1, y2, y3, y4, df, df_virus_count"
   ]
  },
  {
   "cell_type": "code",
   "execution_count": null,
   "id": "e7458f7e",
   "metadata": {},
   "outputs": [
    {
     "name": "stderr",
     "output_type": "stream",
     "text": [
      "/Users/miyanishio/opt/anaconda3/lib/python3.9/site-packages/pandas/core/frame.py:5039: SettingWithCopyWarning: \n",
      "A value is trying to be set on a copy of a slice from a DataFrame\n",
      "\n",
      "See the caveats in the documentation: https://pandas.pydata.org/pandas-docs/stable/user_guide/indexing.html#returning-a-view-versus-a-copy\n",
      "  return super().rename(\n"
     ]
    }
   ],
   "source": [
    "X, y1, y2, y3, y4, df, df_virus_count = DataPreprocess('Tokyo')"
   ]
  },
  {
   "cell_type": "code",
   "execution_count": null,
   "id": "60ab0f39",
   "metadata": {},
   "outputs": [],
   "source": [
    "X"
   ]
  },
  {
   "cell_type": "code",
   "execution_count": null,
   "id": "646eeefd",
   "metadata": {},
   "outputs": [],
   "source": [
    "X = X.drop(columns=['Date'])"
   ]
  },
  {
   "cell_type": "code",
   "execution_count": null,
   "id": "c7976446",
   "metadata": {},
   "outputs": [],
   "source": [
    "X = X[0:400] #until 2020 05-04\n",
    "y1 = y1[0:400]\n",
    "y2 = y2[0:400]\n",
    "y3 = y2[0:400]\n",
    "y4 = y2[0:400]"
   ]
  },
  {
   "cell_type": "code",
   "execution_count": null,
   "id": "2a8d33ee",
   "metadata": {},
   "outputs": [],
   "source": [
    "X"
   ]
  },
  {
   "cell_type": "code",
   "execution_count": null,
   "id": "d2709a15",
   "metadata": {},
   "outputs": [],
   "source": [
    "from sklearn.preprocessing import StandardScaler\n",
    "from sklearn.model_selection import train_test_split\n",
    "\n",
    "scaler = StandardScaler()\n",
    "scaler1 = StandardScaler()\n",
    "X_train, X_test = X[0:280], X[280:400]\n",
    "y1_train, y1_test = y1[0:280], y1[280:400]"
   ]
  },
  {
   "cell_type": "code",
   "execution_count": null,
   "id": "4bedfa8d",
   "metadata": {},
   "outputs": [],
   "source": [
    "scaled_X_train = scaler1.fit_transform(X_train)\n",
    "scaled_X_test = scaler1.transform(X_test)"
   ]
  },
  {
   "cell_type": "code",
   "execution_count": null,
   "id": "9087030d",
   "metadata": {},
   "outputs": [],
   "source": [
    "model = Sequential()\n",
    "\n",
    "model.add(Dense(6,activation=\"sigmoid\"))\n",
    "model.add(Dense(6,activation=\"sigmoid\"))\n",
    "model.add(Dense(3,activation=\"sigmoid\"))\n",
    "model.add(Dense(3,activation=\"sigmoid\"))\n",
    "model.add(Dense(3,activation=\"sigmoid\"))\n",
    "\n",
    "model.add(Dense(1, activation='sigmoid'))\n",
    "model.compile(optimizer='rmsprop',loss='binary_crossentropy',metrics=['accuracy'])"
   ]
  },
  {
   "cell_type": "code",
   "execution_count": null,
   "id": "22ae8478",
   "metadata": {},
   "outputs": [],
   "source": [
    "early_stop = EarlyStopping(monitor='val_loss',mode='min',verbose=1,patience=50)"
   ]
  },
  {
   "cell_type": "code",
   "execution_count": null,
   "id": "dda55b56",
   "metadata": {},
   "outputs": [],
   "source": [
    "model.fit(scaled_X_train,y1_train,epochs=400,validation_data=(scaled_X_test,y1_test),callbacks=[early_stop])"
   ]
  },
  {
   "cell_type": "code",
   "execution_count": null,
   "id": "7c53ab7e",
   "metadata": {},
   "outputs": [],
   "source": [
    "predictions = model.predict(scaled_X_test)"
   ]
  },
  {
   "cell_type": "code",
   "execution_count": null,
   "id": "f1244ae6",
   "metadata": {},
   "outputs": [],
   "source": [
    "preds = []\n",
    "for x in predictions:\n",
    "    if x >= 0.5:\n",
    "        preds.append(1)\n",
    "    else:\n",
    "        preds.append(0)"
   ]
  },
  {
   "cell_type": "code",
   "execution_count": null,
   "id": "486c90f8",
   "metadata": {},
   "outputs": [],
   "source": [
    "from sklearn.metrics import classification_report,confusion_matrix"
   ]
  },
  {
   "cell_type": "code",
   "execution_count": null,
   "id": "6f7a92f3",
   "metadata": {},
   "outputs": [],
   "source": [
    "print(classification_report(y1_test,preds))"
   ]
  },
  {
   "cell_type": "code",
   "execution_count": null,
   "id": "34ed2cae",
   "metadata": {},
   "outputs": [],
   "source": []
  }
 ],
 "metadata": {
  "kernelspec": {
   "display_name": "Python 3 (ipykernel)",
   "language": "python",
   "name": "python3"
  },
  "language_info": {
   "codemirror_mode": {
    "name": "ipython",
    "version": 3
   },
   "file_extension": ".py",
   "mimetype": "text/x-python",
   "name": "python",
   "nbconvert_exporter": "python",
   "pygments_lexer": "ipython3",
   "version": "3.9.7"
  }
 },
 "nbformat": 4,
 "nbformat_minor": 5
}
